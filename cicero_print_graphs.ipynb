{
 "cells": [
  {
   "cell_type": "markdown",
   "metadata": {},
   "source": [
    "# Import Functions"
   ]
  },
  {
   "cell_type": "code",
   "execution_count": null,
   "metadata": {},
   "outputs": [],
   "source": [
    "from my_modules.sentiment_analysis import get_sentiment_lex, get_lexical_diversities\n",
    "from my_modules.plot import plot_negative_freq_bar, plot_negative_freq_line, plot_overall_sentiment, plot_sentiment_proportion, plot_lexical_diversities, plot_assoc_words\n",
    "from my_modules.data_handling import get_all_embeddings_csv, get_scores_csv, get_lemmata_csv\n",
    "from my_modules.word_embeddings import find_associated_words"
   ]
  },
  {
   "cell_type": "markdown",
   "metadata": {},
   "source": [
    "# Load and Print Negative Word Frequencies, Proportions and Lexical Diversities"
   ]
  },
  {
   "cell_type": "code",
   "execution_count": null,
   "metadata": {},
   "outputs": [],
   "source": [
    "#load data previously calculated and saved\n",
    "all_scores = get_scores_csv()\n",
    "all_lemmata = get_lemmata_csv()\n",
    "lex = get_sentiment_lex()\n",
    "#record overall data to consider all speeches together\n",
    "total_scores = {-1: [], -0.5: [], 0: [], 0.5: [], 1: []}\n",
    "total_lemmata = []\n",
    "lexical_diversities = {}\n",
    "\n",
    "for speech in all_scores: #for each speech\n",
    "    for score in all_scores[speech]:\n",
    "        #record scores for total\n",
    "        total_scores[score] += all_scores[speech][score] \n",
    "\n",
    "    #record lemmata for total\n",
    "    total_lemmata += all_lemmata[speech] \n",
    "    #get and record lex divs for total\n",
    "    lexical_diversities[speech] = get_lexical_diversities(all_scores[speech], all_lemmata[speech]) \n",
    "    #plot frequencies for current speech\n",
    "    plot_negative_freq_bar(all_scores[speech], speech, \"Extreme\", lex)\n",
    "    plot_negative_freq_line(all_scores[speech], speech, \"Extreme\")\n",
    "    #plot propotions for current speech\n",
    "    plot_overall_sentiment(all_scores[speech], speech)\n",
    "    plot_sentiment_proportion(all_scores[speech], speech)\n",
    "\n",
    "#get and plot total lex div\n",
    "lexical_diversities[\"All Speeches\"] = get_lexical_diversities(total_scores, total_lemmata)\n",
    "plot_lexical_diversities(lexical_diversities)\n",
    "overall_lexical_diversities = get_lexical_diversities(all_scores, all_lemmata)\n",
    "#plot frequencies for all speeches\n",
    "plot_negative_freq_bar(total_scores, \"All Speeches\", \"Extreme\", lex)\n",
    "plot_negative_freq_line(total_scores, \"All Speeches\", \"Extreme\")\n",
    "#plot propotions for all speeches\n",
    "plot_overall_sentiment(total_scores, \"All Speeches\")\n",
    "plot_sentiment_proportion(total_scores, \"All Speeches\")"
   ]
  },
  {
   "cell_type": "markdown",
   "metadata": {},
   "source": [
    "# Load and Print Embeddings for Word Associations"
   ]
  },
  {
   "cell_type": "code",
   "execution_count": null,
   "metadata": {},
   "outputs": [],
   "source": [
    "#load embeddings data previously calculated\n",
    "all_embeddings = get_all_embeddings_csv()\n",
    "all_scores = get_scores_csv()\n",
    "\n",
    "for speech in all_embeddings: #for each speech\n",
    "    #get list of extreme negative for current speech\n",
    "    extreme_neg_words = all_scores[speech][-1]\n",
    "    top_k = 35 #set number of associated words to calculate\n",
    "    num_neg = 10 #set number of negative words in speech for which to find associated words \n",
    "    #find top_k words associated with each negative word\n",
    "    assoc_words = find_associated_words(all_embeddings[speech], extreme_neg_words, num_neg, top_k)\n",
    "    #plot associated words\n",
    "    plot_assoc_words(assoc_words, speech, top_k)"
   ]
  }
 ],
 "metadata": {
  "interpreter": {
   "hash": "fa0771a7fd607932ed79c5a8458e43cb504635a8a4291dedf68fce6aef715e44"
  },
  "kernelspec": {
   "display_name": "Python 3.9.6 64-bit ('thesis': conda)",
   "name": "python3"
  },
  "language_info": {
   "name": "python",
   "version": ""
  }
 },
 "nbformat": 4,
 "nbformat_minor": 2
}